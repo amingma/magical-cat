{
 "cells": [
  {
   "cell_type": "code",
   "execution_count": 2,
   "metadata": {},
   "outputs": [],
   "source": [
    "import pygsheets\n",
    "import pandas as pd\n",
    "service_account = pygsheets.authorize(service_account_file=\"JSONs/spreadsheet-automator-424216-82268ee16b44.json\")\n",
    "\n",
    "sheet = service_account.open_by_url('https://docs.google.com/spreadsheets/d/15w5oFt5osxqVYFAYC-hs3wjN7g2lCkSaRbIVddIbKg4/edit?usp=sharing')"
   ]
  },
  {
   "cell_type": "code",
   "execution_count": 3,
   "metadata": {},
   "outputs": [],
   "source": [
    "test = sheet.worksheet('title', 'Sheet1')"
   ]
  },
  {
   "cell_type": "code",
   "execution_count": 7,
   "metadata": {},
   "outputs": [],
   "source": [
    "df = test.get_as_df()\n",
    "df['random numbers'] = 1\n",
    "test.set_dataframe(df, 'B1', copy_head = True)"
   ]
  }
 ],
 "metadata": {
  "kernelspec": {
   "display_name": "Python 3",
   "language": "python",
   "name": "python3"
  },
  "language_info": {
   "codemirror_mode": {
    "name": "ipython",
    "version": 3
   },
   "file_extension": ".py",
   "mimetype": "text/x-python",
   "name": "python",
   "nbconvert_exporter": "python",
   "pygments_lexer": "ipython3",
   "version": "3.11.9"
  }
 },
 "nbformat": 4,
 "nbformat_minor": 2
}
