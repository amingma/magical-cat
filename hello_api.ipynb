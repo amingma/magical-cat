{
 "cells": [
  {
   "cell_type": "code",
   "execution_count": 39,
   "metadata": {},
   "outputs": [],
   "source": [
    "import requests\n",
    "import pandas as pd\n",
    "\n",
    "from dotenv import load_dotenv\n",
    "import os\n",
    "load_dotenv()\n",
    "\n",
    "gameName = \"BakutoPhinn\"\n",
    "tagLine = \"NA1\"\n",
    "api_key = os.environ.get(\"riot_api\")"
   ]
  },
  {
   "cell_type": "code",
   "execution_count": 52,
   "metadata": {},
   "outputs": [],
   "source": [
    "def get_puuid(gameName, tagLine, api_key):\n",
    "    link = f\"https://americas.api.riotgames.com/riot/account/v1/accounts/by-riot-id/{gameName}/{tagLine}?api_key={api_key}\"\n",
    "    response = requests.get(link)\n",
    "    return response.json()['puuid']\n",
    "\n",
    "def get_name_and_tag(puuid, api_key):\n",
    "    link = f\"https://americas.api.riotgames.com/riot/account/v1/accounts/by-puuid/{puuid}?api_key={api_key}\"\n",
    "    response = requests.get(link)\n",
    "    return [response.json()['gameName'], response.json()['tagLine']]\n",
    "# must use strings challengerleagues, grandmasterleagues, or masterleagues for league input\n",
    "def get_league(league, api_key):\n",
    "    link = f\"https://na1.api.riotgames.com/lol/league/v4/{league}/by-queue/RANKED_SOLO_5x5?api_key={api_key}\"\n",
    "    return requests.get(link)"
   ]
  },
  {
   "cell_type": "code",
   "execution_count": 31,
   "metadata": {},
   "outputs": [
    {
     "data": {
      "text/plain": [
       "'Crazy Noche'"
      ]
     },
     "execution_count": 31,
     "metadata": {},
     "output_type": "execute_result"
    }
   ],
   "source": [
    "get_name_and_tag(get_puuid(\"crazy%20noche\", \"NA1\", api_key), api_key)[0]"
   ]
  },
  {
   "cell_type": "code",
   "execution_count": 74,
   "metadata": {},
   "outputs": [],
   "source": [
    "def get_ladder():\n",
    "    chall_response = get_league(\"challengerleagues\", api_key)\n",
    "    chall_df = pd.DataFrame(chall_response.json()['entries'])\n",
    "    chall_df = chall_df.sort_values(\"leaguePoints\", ascending=False).reset_index(drop=True)\n",
    "    gm_response = get_league(\"grandmasterleagues\", api_key)\n",
    "    gm_df = pd.DataFrame(gm_response.json()['entries'])\n",
    "    gm_df = gm_df.sort_values(\"leaguePoints\", ascending=False).reset_index(drop=True)\n",
    "    masters_response = get_league(\"masterleagues\", api_key)\n",
    "    masters_df = pd.DataFrame(masters_response.json()['entries'])\n",
    "    masters_df = masters_df.sort_values(\"leaguePoints\", ascending=False).reset_index(drop=True)\n",
    "    ladder = pd.concat([chall_df, gm_df, masters_df])\n",
    "    ladder = ladder.drop(columns='rank')\n",
    "    ladder = ladder.reset_index()\n",
    "    ladder = ladder.rename(columns={\"index\":\"Rank\"})\n",
    "    ladder[\"Rank\"] = ladder[\"Rank\"]+1\n",
    "    return ladder"
   ]
  }
 ],
 "metadata": {
  "kernelspec": {
   "display_name": "Python 3",
   "language": "python",
   "name": "python3"
  },
  "language_info": {
   "codemirror_mode": {
    "name": "ipython",
    "version": 3
   },
   "file_extension": ".py",
   "mimetype": "text/x-python",
   "name": "python",
   "nbconvert_exporter": "python",
   "pygments_lexer": "ipython3",
   "version": "3.11.9"
  }
 },
 "nbformat": 4,
 "nbformat_minor": 2
}
