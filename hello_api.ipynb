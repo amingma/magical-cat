{
 "cells": [
  {
   "cell_type": "code",
   "execution_count": 1,
   "metadata": {},
   "outputs": [],
   "source": [
    "import requests\n",
    "import pandas as pd\n",
    "\n",
    "from dotenv import load_dotenv\n",
    "import os\n",
    "load_dotenv()\n",
    "\n",
    "gameName = \"BakutoPhinn\"\n",
    "tagLine = \"NA1\"\n",
    "api_key = os.environ.get(\"riot_api\")"
   ]
  },
  {
   "cell_type": "code",
   "execution_count": 2,
   "metadata": {},
   "outputs": [],
   "source": [
    "def get_puuid_ign(gameName, tagLine, api_key):\n",
    "    link = f\"https://americas.api.riotgames.com/riot/account/v1/accounts/by-riot-id/{gameName}/{tagLine}?api_key={api_key}\"\n",
    "    response = requests.get(link)\n",
    "    return response.json()['puuid']\n",
    "\n",
    "def get_puuid_sID(sID, api_key):\n",
    "    link = f\"https://na1.api.riotgames.com/lol/summoner/v4/summoners/{sID}?api_key={api_key}\"\n",
    "    response = requests.get(link)\n",
    "    return response.json()['puuid']\n",
    "\n",
    "def get_name_and_tag(puuid, api_key):\n",
    "    link = f\"https://americas.api.riotgames.com/riot/account/v1/accounts/by-puuid/{puuid}?api_key={api_key}\"\n",
    "    response = requests.get(link)\n",
    "    return [response.json()['gameName'], response.json()['tagLine']]\n",
    "# must use strings challengerleagues, grandmasterleagues, or masterleagues for league input\n",
    "def get_league(league, api_key):\n",
    "    link = f\"https://na1.api.riotgames.com/lol/league/v4/{league}/by-queue/RANKED_SOLO_5x5?api_key={api_key}\"\n",
    "    return requests.get(link).json()"
   ]
  },
  {
   "cell_type": "code",
   "execution_count": 3,
   "metadata": {},
   "outputs": [],
   "source": [
    "def get_ladder():\n",
    "    chall_response = get_league(\"challengerleagues\", api_key)\n",
    "    chall_df = pd.DataFrame(chall_response['entries'])\n",
    "    chall_df = chall_df.sort_values(\"leaguePoints\", ascending=False).reset_index(drop=True)\n",
    "    gm_response = get_league(\"grandmasterleagues\", api_key)\n",
    "    gm_df = pd.DataFrame(gm_response['entries'])\n",
    "    gm_df = gm_df.sort_values(\"leaguePoints\", ascending=False).reset_index(drop=True)\n",
    "    masters_response = get_league(\"masterleagues\", api_key)\n",
    "    masters_df = pd.DataFrame(masters_response['entries'])\n",
    "    masters_df = masters_df.sort_values(\"leaguePoints\", ascending=False).reset_index(drop=True)\n",
    "    ladder = pd.concat([chall_df, gm_df, masters_df])\n",
    "    ladder = ladder.drop(columns='rank')\n",
    "    ladder = ladder.reset_index()\n",
    "    ladder = ladder.rename(columns={\"index\":\"Rank\"})\n",
    "    ladder[\"Rank\"] = ladder[\"Rank\"]+1\n",
    "    return ladder"
   ]
  },
  {
   "cell_type": "code",
   "execution_count": 9,
   "metadata": {},
   "outputs": [],
   "source": [
    "def get_match_history(puuid, api_key, start=0, count=20, type=\"\"):\n",
    "    if type != \"\":\n",
    "        link = f\"https://americas.api.riotgames.com/lol/match/v5/matches/by-puuid/{puuid}/ids?type={type}&start={start}&count={count}&api_key={api_key}\"\n",
    "    else:\n",
    "        link = f\"https://americas.api.riotgames.com/lol/match/v5/matches/by-puuid/{puuid}/ids?start={start}&count={count}&api_key={api_key}\"\n",
    "    print(link)\n",
    "    return requests.get(link).json()\n",
    "\n",
    "def get_match_data(matchID, api_key):\n",
    "    link = f\"https://americas.api.riotgames.com/lol/match/v5/matches/{matchID}?api_key={api_key}\"\n",
    "    return requests.get(link).json()\n",
    "\n",
    "def get_usernames(matchID, api_key):\n",
    "    data = get_match_data(matchID, api_key)\n",
    "    usernames_puuid = data['metadata']['participants']\n",
    "    usernames = []\n",
    "    for puuid in usernames_puuid:\n",
    "        usernames.append(get_name_and_tag(puuid, api_key)[0])\n",
    "    return usernames\n",
    "\n",
    "def get_match_KDA(matchID, playerID, api_key):\n",
    "    data = get_match_data(matchID, api_key)\n",
    "    participant_puuids = data['metadata']['participants']\n",
    "    player_idx = 0\n",
    "    for i in range(10):\n",
    "        if (participant_puuids[i]==playerID):\n",
    "            player_idx = i\n",
    "    player_info = data['info']['participants'][player_idx]\n",
    "    if (player_info['deaths']==0):\n",
    "        return player_info['kills']+player_info['assists']\n",
    "    return (player_info['kills']+player_info['assists'])/player_info['deaths']\n",
    "\n",
    "def get_player_KDA(gameName, tagLine, api_key):\n",
    "    puuid = get_puuid_ign(gameName, tagLine, api_key)\n",
    "    matches = get_match_history(puuid, api_key)\n",
    "    total = 0\n",
    "    for i in range(20):\n",
    "        total += get_match_KDA(matches[i], puuid, api_key)\n",
    "    return total/20\n",
    "\n",
    "    "
   ]
  },
  {
   "cell_type": "code",
   "execution_count": 11,
   "metadata": {},
   "outputs": [
    {
     "name": "stdout",
     "output_type": "stream",
     "text": [
      "https://americas.api.riotgames.com/lol/match/v5/matches/by-puuid/t_RtfJyUg_GIC-i0TqnSkWgPOimmvOHgZZsaiNUdNOKy9wiJufU2uWyGhVZpUYdus8d3aMYveJk7MA/ids?start=0&count=20&api_key=RGAPI-2490ba66-d5e5-49c2-a07a-81a55ec32192\n"
     ]
    },
    {
     "data": {
      "text/plain": [
       "2.6457539682539677"
      ]
     },
     "execution_count": 11,
     "metadata": {},
     "output_type": "execute_result"
    }
   ],
   "source": [
    "get_player_KDA(\"jwong02\", \"NA1\", api_key)"
   ]
  }
 ],
 "metadata": {
  "kernelspec": {
   "display_name": "Python 3",
   "language": "python",
   "name": "python3"
  },
  "language_info": {
   "codemirror_mode": {
    "name": "ipython",
    "version": 3
   },
   "file_extension": ".py",
   "mimetype": "text/x-python",
   "name": "python",
   "nbconvert_exporter": "python",
   "pygments_lexer": "ipython3",
   "version": "3.11.9"
  }
 },
 "nbformat": 4,
 "nbformat_minor": 2
}
